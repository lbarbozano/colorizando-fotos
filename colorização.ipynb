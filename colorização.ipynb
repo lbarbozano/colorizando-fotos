{
  "nbformat": 4,
  "nbformat_minor": 0,
  "metadata": {
    "colab": {
      "name": "colorização",
      "provenance": [],
      "private_outputs": true,
      "authorship_tag": "ABX9TyNE/XFjzSiGpnqLKEnwfm1A",
      "include_colab_link": true
    },
    "kernelspec": {
      "name": "python3",
      "display_name": "Python 3"
    },
    "accelerator": "GPU"
  },
  "cells": [
    {
      "cell_type": "markdown",
      "metadata": {
        "id": "view-in-github",
        "colab_type": "text"
      },
      "source": [
        "<a href=\"https://colab.research.google.com/github/lbarbozano/colorizando-fotos/blob/master/coloriza%C3%A7%C3%A3o.ipynb\" target=\"_parent\"><img src=\"https://colab.research.google.com/assets/colab-badge.svg\" alt=\"Open In Colab\"/></a>"
      ]
    },
    {
      "cell_type": "code",
      "metadata": {
        "id": "CFAlVWI5xdEE"
      },
      "source": [
        "!wget https://raw.githubusercontent.com/awarischool/data-science/master/image-colorizer/deoldify_wrapper.py"
      ],
      "execution_count": null,
      "outputs": []
    },
    {
      "cell_type": "code",
      "metadata": {
        "id": "KosLcukJP9AM"
      },
      "source": [
        "from deoldify_wrapper import DeOldify"
      ],
      "execution_count": null,
      "outputs": []
    },
    {
      "cell_type": "code",
      "metadata": {
        "id": "Qib4bdKJQ5Mf"
      },
      "source": [
        "deo = DeOldify()"
      ],
      "execution_count": null,
      "outputs": []
    },
    {
      "cell_type": "code",
      "metadata": {
        "id": "4YzCQT1pRSuE"
      },
      "source": [
        "deo.colorize('https://i.redd.it/56hh1kku8ex51.png')"
      ],
      "execution_count": null,
      "outputs": []
    }
  ]
}